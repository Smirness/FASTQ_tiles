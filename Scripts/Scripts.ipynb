{
 "cells": [
  {
   "cell_type": "markdown",
   "source": [
    "Скрипт который рисует HTML и PNG график любого тайла. Для сравнения взяли два 1101 и 2203"
   ],
   "metadata": {
    "collapsed": false,
    "pycharm": {
     "name": "#%% md\n"
    }
   }
  },
  {
   "cell_type": "code",
   "execution_count": 53,
   "outputs": [
    {
     "name": "stdout",
     "output_type": "stream",
     "text": [
      "Tile 1101 with 100 reads is done\n",
      "Tile 1101 with all reads is done\n",
      "Tile 2203 with 100 reads is done\n",
      "Tile 2203 with all reads is done\n"
     ]
    }
   ],
   "source": [
    "from Bio import SeqIO\n",
    "import plotly.express as px\n",
    "import gzip\n",
    "\n",
    "input_file = \"C:\\Work_place\\Projects\\Bubble_Off\\Fastq_files\\\\amp_res_1.fastq.gz\"\n",
    "tile_name = ['1101', '2203'] # Name of Tiles\n",
    "limit = ['100', 'all'] # Amount of reads\n",
    "\n",
    "# Open the gzipped input file and process it as a FastQ file\n",
    "file = gzip.open(input_file, 'rt')\n",
    "file = SeqIO.parse(file, 'fastq')\n",
    "status = []\n",
    "\n",
    "for tile in tile_name:\n",
    "    for lim in limit:\n",
    "\n",
    "        list_tile = []\n",
    "        list_x_pos = []\n",
    "        list_y_pos = []\n",
    "        list_number_quality = []\n",
    "        list_color_quality = []\n",
    "        list_z_pos = []\n",
    "        j = 0\n",
    "\n",
    "        for record in file:\n",
    "                first_line, read, _, quality, _ = record.format('fastq').split('\\n')\n",
    "                srr_number, sequence_id, length = first_line.split(' ')\n",
    "                instrument, run_number, flowcell_id, number_lane, number_tile, x_pos, y_pos, *other = sequence_id.split(':')\n",
    "\n",
    "                if number_tile == tile:\n",
    "                    for i, number_quality in enumerate(record.letter_annotations[\"phred_quality\"]):\n",
    "                        j+=1\n",
    "                        list_x_pos.append(int(x_pos))\n",
    "                        list_y_pos.append(int(y_pos))\n",
    "                        list_z_pos.append(i+1)\n",
    "                        list_number_quality.append(number_quality)\n",
    "\n",
    "                        if number_quality >= 28:\n",
    "                            list_color_quality.append('g')\n",
    "                        elif number_quality >= 20:\n",
    "                            list_color_quality.append('y')\n",
    "                        else:\n",
    "                            list_color_quality.append('r')\n",
    "\n",
    "                if number_tile > tile:\n",
    "                    break\n",
    "\n",
    "                if lim != 'all':\n",
    "                    if j > int(lim)*100:\n",
    "                        break\n",
    "\n",
    "\n",
    "        x_values = list_x_pos\n",
    "        y_values = list_y_pos\n",
    "        z_values = list_z_pos\n",
    "        size_markers = [10] * len(list_z_pos)\n",
    "\n",
    "\n",
    "        fig = px.scatter_3d(x=x_values, y=y_values, z=z_values,\n",
    "                            color = list_number_quality,\n",
    "                            labels={'x':'X','y':'Y', 'z':'Length, nt.', 'color': 'Phred score'},\n",
    "                            color_continuous_scale= px.colors.diverging.RdYlGn,\n",
    "                            title='Tile_' + tile,\n",
    "                            size= size_markers, size_max=7, width=1000, height=1000)\n",
    "\n",
    "        fig.update_traces(marker=dict(line=dict(width=0)))\n",
    "\n",
    "        fig.write_html(f'..\\Graphs\\Tile_%s(%s).html'%(tile,lim))\n",
    "        fig.write_image(f'..\\Graphs\\Tile_%s(%s).png'%(tile,lim))\n",
    "\n",
    "        # fig.show()\n",
    "        print(f'Tile %s with %s reads is done'%(tile, lim))"
   ],
   "metadata": {
    "collapsed": false,
    "pycharm": {
     "name": "#%%\n"
    }
   }
  },
  {
   "cell_type": "code",
   "execution_count": null,
   "outputs": [],
   "source": [],
   "metadata": {
    "collapsed": false,
    "pycharm": {
     "name": "#%%\n"
    }
   }
  }
 ],
 "metadata": {
  "kernelspec": {
   "display_name": "Python 3",
   "language": "python",
   "name": "python3"
  },
  "language_info": {
   "codemirror_mode": {
    "name": "ipython",
    "version": 2
   },
   "file_extension": ".py",
   "mimetype": "text/x-python",
   "name": "python",
   "nbconvert_exporter": "python",
   "pygments_lexer": "ipython2",
   "version": "2.7.6"
  }
 },
 "nbformat": 4,
 "nbformat_minor": 0
}